{
 "cells": [
  {
   "cell_type": "markdown",
   "metadata": {},
   "source": [
    "# SNR ration computation"
   ]
  },
  {
   "cell_type": "markdown",
   "metadata": {},
   "source": [
    "## 1. Load the data"
   ]
  },
  {
   "cell_type": "code",
   "execution_count": 2,
   "metadata": {},
   "outputs": [],
   "source": [
    "import pandas as pd\n",
    "\n",
    "def load_data(file_path):\n",
    "    return pd.read_csv(file_path, header=None, delimiter=';')\n",
    "\n",
    "noise_data_path = 'rest.csv'\n",
    "signal_data_path = 'touch.csv'\n",
    "\n",
    "noise_data = load_data(noise_data_path)\n",
    "signal_data = load_data(signal_data_path)\n"
   ]
  },
  {
   "cell_type": "markdown",
   "metadata": {},
   "source": [
    "Because the data comes from the MPR121 Arduino library, it is not in the 10bit format (max of 1023), so the values are very high. However, because I'm computing a ratio, it won't affect the result"
   ]
  },
  {
   "cell_type": "markdown",
   "metadata": {},
   "source": [
    "## Noise values computation"
   ]
  },
  {
   "cell_type": "markdown",
   "metadata": {},
   "source": [
    "I start by computing the standard deviation of the at rest signal, to establish the noise values. I use the pandas library built-in functions for that."
   ]
  },
  {
   "cell_type": "code",
   "execution_count": 3,
   "metadata": {},
   "outputs": [
    {
     "name": "stdout",
     "output_type": "stream",
     "text": [
      "Noise Standard Deviation: 15.803529446059208\n"
     ]
    }
   ],
   "source": [
    "noise_std = noise_data[0].std()\n",
    "\n",
    "print(f\"Noise Standard Deviation: {noise_std}\")"
   ]
  },
  {
   "cell_type": "markdown",
   "metadata": {},
   "source": [
    "Then, I compute the mean of the activation signal."
   ]
  },
  {
   "cell_type": "code",
   "execution_count": 4,
   "metadata": {},
   "outputs": [
    {
     "name": "stdout",
     "output_type": "stream",
     "text": [
      "Signal Mean: 65449.70802919708\n"
     ]
    }
   ],
   "source": [
    "signal_mean = signal_data[0].mean()\n",
    "print(f\"Signal Mean: {signal_mean}\")"
   ]
  },
  {
   "cell_type": "markdown",
   "metadata": {},
   "source": [
    "Once we have these value, we can compute the Signal-To-Noise Ratio using the mathematical formula :"
   ]
  },
  {
   "cell_type": "code",
   "execution_count": 5,
   "metadata": {},
   "outputs": [
    {
     "name": "stdout",
     "output_type": "stream",
     "text": [
      "SNR : 72.34307247055642dB\n"
     ]
    }
   ],
   "source": [
    "import math\n",
    "\n",
    "snr = 20 * math.log10(signal_mean / noise_std)\n",
    "print(f\"SNR : {snr}dB\")"
   ]
  },
  {
   "cell_type": "markdown",
   "metadata": {},
   "source": [
    "So the SNR of the signal is around 72.343 decibels."
   ]
  }
 ],
 "metadata": {
  "kernelspec": {
   "display_name": "Python 3",
   "language": "python",
   "name": "python3"
  },
  "language_info": {
   "codemirror_mode": {
    "name": "ipython",
    "version": 3
   },
   "file_extension": ".py",
   "mimetype": "text/x-python",
   "name": "python",
   "nbconvert_exporter": "python",
   "pygments_lexer": "ipython3",
   "version": "3.10.8"
  }
 },
 "nbformat": 4,
 "nbformat_minor": 2
}
